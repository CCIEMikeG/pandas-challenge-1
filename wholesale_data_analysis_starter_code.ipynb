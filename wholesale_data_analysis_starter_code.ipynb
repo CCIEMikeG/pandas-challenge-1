{
 "cells": [
  {
   "cell_type": "markdown",
   "id": "dc0318d6",
   "metadata": {},
   "source": [
    "## Part 1: Explore the Data\n",
    "\n",
    "Import the data and use Pandas to learn more about the dataset."
   ]
  },
  {
   "cell_type": "code",
   "execution_count": 25,
   "id": "e076f57f",
   "metadata": {},
   "outputs": [
    {
     "name": "stdout",
     "output_type": "stream",
     "text": [
      "       first      last                    job               phone  \\\n",
      "0     Donald   Harding           Immunologist  793-904-7725x39308   \n",
      "1    Tiffany     Myers        Music therapist    201.442.4543x942   \n",
      "2    Shannon    Watson           Immunologist   687.737.9424x8503   \n",
      "3     Nathan     Baker  Accounting technician    827-788-8123x012   \n",
      "4  Christina  Schwartz           Chiropractor        265-829-3643   \n",
      "\n",
      "                                 email  client_id  order_id  order_date  \\\n",
      "0     harding.donald.7185@sullivan.com      58515   8953482  2023-04-28   \n",
      "1    myers.t.6537@ferguson-johnson.net      37609   8069089  2023-05-19   \n",
      "2                swatson8146@payne.net      57113   1902144  2023-01-29   \n",
      "3               bakernathan@benson.com      46554   9031802  2023-04-25   \n",
      "4  christinaschwartz9252@mcconnell.com      92089   1322274  2023-05-28   \n",
      "\n",
      "   order_week  order_year         item_id     category         subcategory  \\\n",
      "0          17        2023  EUD29711-63-6U        decor            wall art   \n",
      "1          20        2023  XDA18116-89-4A  consumables                pens   \n",
      "2           4        2023  ABE59463-05-7E     software  project management   \n",
      "3          17        2023  ZMM00836-65-0C  consumables                pens   \n",
      "4          21        2023  BZX55559-12-3X  consumables                misc   \n",
      "\n",
      "   unit_price  unit_cost  unit_weight  qty  line_number  \n",
      "0     1096.80     762.71         7.50  105            1  \n",
      "1       24.95      15.09         1.49   21            0  \n",
      "2       13.52       7.86         1.68   39            6  \n",
      "3       36.42      24.85         1.23   29            3  \n",
      "4      195.10     108.17        46.43   20            1  \n"
     ]
    }
   ],
   "source": [
    "import pandas as pd\n",
    "\n",
    "# Set the file path for the CSV file\n",
    "file_path = r'C:\\Users\\250wa\\Desktop\\TOSAI\\Challenges\\Mod 4\\Starter_Code\\Resources\\client_dataset.csv'\n",
    "\n",
    "# Read the CSV file\n",
    "df = pd.read_csv(file_path)\n",
    "\n",
    "# Display the first few rows of the data\n",
    "print(df.head())"
   ]
  },
  {
   "cell_type": "code",
   "execution_count": 27,
   "id": "71b9bbd2",
   "metadata": {},
   "outputs": [
    {
     "name": "stdout",
     "output_type": "stream",
     "text": [
      "['first', 'last', 'job', 'phone', 'email', 'client_id', 'order_id', 'order_date', 'order_week', 'order_year', 'item_id', 'category', 'subcategory', 'unit_price', 'unit_cost', 'unit_weight', 'qty', 'line_number']\n"
     ]
    }
   ],
   "source": [
    "# View the column names in the data\n",
    "print(df.columns.tolist())"
   ]
  },
  {
   "cell_type": "code",
   "execution_count": 28,
   "id": "bc0f4172",
   "metadata": {},
   "outputs": [
    {
     "name": "stdout",
     "output_type": "stream",
     "text": [
      "Basic Statistical Summary of the Dataset:\n",
      "          client_id      order_id    order_week    order_year    unit_price  \\\n",
      "count  54639.000000  5.463900e+04  54639.000000  54639.000000  54639.000000   \n",
      "mean   54837.869416  5.470190e+06     11.359139   2022.993064    136.267207   \n",
      "std    25487.438231  2.599807e+06      7.023499      0.082997    183.873135   \n",
      "min    10033.000000  1.000886e+06      1.000000   2022.000000      0.010000   \n",
      "25%    33593.000000  3.196372e+06      6.000000   2023.000000     20.800000   \n",
      "50%    53305.000000  5.496966e+06     11.000000   2023.000000     68.310000   \n",
      "75%    78498.000000  7.733869e+06     17.000000   2023.000000    173.160000   \n",
      "max    99984.000000  9.998480e+06     52.000000   2023.000000   1396.230000   \n",
      "\n",
      "          unit_cost   unit_weight           qty   line_number  \n",
      "count  54639.000000  54639.000000  5.463900e+04  54639.000000  \n",
      "mean      99.446073      5.004116  5.702646e+02      2.979667  \n",
      "std      133.164267      5.326599  1.879552e+04      2.436320  \n",
      "min        0.010000      0.000000  0.000000e+00      0.000000  \n",
      "25%       14.840000      1.450000  3.200000e+01      1.000000  \n",
      "50%       49.890000      3.240000  6.800000e+01      3.000000  \n",
      "75%      125.570000      6.890000  1.700000e+02      5.000000  \n",
      "max      846.270000     46.430000  3.958244e+06      9.000000  \n"
     ]
    }
   ],
   "source": [
    "# Use the describe function to gather some basic statistics\n",
    "# Explanation: describe() provides summary statistics for numerical columns (count, mean, std, min, etc.)\n",
    "print(\"Basic Statistical Summary of the Dataset:\")\n",
    "print(df.describe())\n",
    "\n",
    "# Observations:\n",
    "# - The average unit price is approximately $136.\n",
    "# - The highest unit price is $1396.23, and the lowest is $0.01.\n",
    "# - The dataset contains 54,639 entries across all numeric columns.\n",
    "# - Quantities (qty) range from 0 to 3,958,244, indicating potential outliers.\n"
   ]
  },
  {
   "cell_type": "code",
   "execution_count": 29,
   "id": "b24b53cc",
   "metadata": {},
   "outputs": [],
   "source": [
    "# Use this space to do any additional research\n",
    "# and familiarize yourself with the data.\n"
   ]
  },
  {
   "cell_type": "code",
   "execution_count": 30,
   "id": "551cb358",
   "metadata": {},
   "outputs": [
    {
     "name": "stdout",
     "output_type": "stream",
     "text": [
      "The three categories with the most entries are:\n",
      "category\n",
      "consumables    23538\n",
      "furniture      11915\n",
      "software        8400\n",
      "Name: count, dtype: int64\n",
      "The most common category is: consumables\n",
      "The top subcategory in 'consumables' is: bathroom supplies\n"
     ]
    }
   ],
   "source": [
    "# What three item categories had the most entries?\n",
    "category_counts = df['category'].value_counts()\n",
    "print(\"The three categories with the most entries are:\")\n",
    "print(category_counts.head(3))\n",
    "\n",
    "# Identify the most common category\n",
    "most_common_category = df['category'].value_counts().idxmax()\n",
    "print(f\"The most common category is: {most_common_category}\")\n",
    "\n",
    "# Identify the subcategory with the most entries within this category\n",
    "top_subcategory = df[df['category'] == most_common_category]['subcategory'].value_counts().idxmax()\n",
    "print(f\"The top subcategory in '{most_common_category}' is: {top_subcategory}\")\n",
    "\n",
    "# Explanation:\n",
    "# - First, we find the most common category using `value_counts()` and `idxmax()`.\n",
    "# - Then, we filter rows where the category matches the most common one and count subcategories.\n"
   ]
  },
  {
   "cell_type": "code",
   "execution_count": 31,
   "id": "5f54e2cf",
   "metadata": {},
   "outputs": [
    {
     "name": "stdout",
     "output_type": "stream",
     "text": [
      "The subcategories of consumables with most entries are:\n",
      "subcategory\n",
      "bathroom supplies    6424\n",
      "Name: count, dtype: int64\n"
     ]
    }
   ],
   "source": [
    "# For the category with the most entries, which subcategory had the most entries?\n",
    "consumables_df = df[df['category'] == 'consumables']\n",
    "subcategory_counts = consumables_df['subcategory'].value_counts()\n",
    "print(\"The subcategories of consumables with most entries are:\")\n",
    "print(subcategory_counts.head(1))"
   ]
  },
  {
   "cell_type": "code",
   "execution_count": 32,
   "id": "2db94379",
   "metadata": {},
   "outputs": [
    {
     "name": "stdout",
     "output_type": "stream",
     "text": [
      "The five clients with most entries are:\n",
      "client_id\n",
      "33615    220\n",
      "66037    211\n",
      "46820    209\n",
      "38378    207\n",
      "24741    207\n",
      "Name: count, dtype: int64\n"
     ]
    }
   ],
   "source": [
    "# Which five clients had the most entries in the data?\n",
    "# Which five clients had the most entries?\n",
    "client_counts = df['client_id'].value_counts()\n",
    "print(\"The five clients with most entries are:\")\n",
    "print(client_counts.head())"
   ]
  },
  {
   "cell_type": "code",
   "execution_count": 33,
   "id": "a6635601",
   "metadata": {},
   "outputs": [
    {
     "name": "stdout",
     "output_type": "stream",
     "text": [
      "List of top 5 client IDs:\n",
      "[33615, 66037, 46820, 38378, 24741]\n"
     ]
    }
   ],
   "source": [
    "# Store the client ids of those top 5 clients in a list\n",
    "top_5_clients = client_counts.head().index.tolist()\n",
    "print(\"List of top 5 client IDs:\")\n",
    "print(top_5_clients)"
   ]
  },
  {
   "cell_type": "code",
   "execution_count": 34,
   "id": "c88b8a3e",
   "metadata": {},
   "outputs": [
    {
     "name": "stdout",
     "output_type": "stream",
     "text": [
      "Client 33615 ordered a total of 64,313 units\n"
     ]
    }
   ],
   "source": [
    "# How many total units (the qty column) did the client with the most entries order order?\n",
    "# How many total units did the client with the most entries order?\n",
    "top_client = top_5_clients[0]  # Gets the first client ID from our list (33615)\n",
    "total_units = df[df['client_id'] == top_client]['qty'].sum()\n",
    "print(f\"Client {top_client} ordered a total of {total_units:,} units\")"
   ]
  },
  {
   "cell_type": "markdown",
   "id": "257fcd7d",
   "metadata": {},
   "source": [
    "## Part 2: Transform the Data\n",
    "Do we know that this client spent the more money than client 66037? If not, how would we find out? Transform the data using the steps below to prepare it for analysis."
   ]
  },
  {
   "cell_type": "code",
   "execution_count": 35,
   "id": "0c25c4a8",
   "metadata": {},
   "outputs": [
    {
     "name": "stdout",
     "output_type": "stream",
     "text": [
      "Sample of subtotal calculations:\n",
      "   unit_price  qty   subtotal\n",
      "0     1096.80  105  115164.00\n",
      "1       24.95   21     523.95\n",
      "2       13.52   39     527.28\n",
      "3       36.42   29    1056.18\n",
      "4      195.10   20    3902.00\n"
     ]
    }
   ],
   "source": [
    "# Create a column that calculates the subtotal for each line using the unit_price and the qty\n",
    "df['subtotal'] = df['unit_price'] * df['qty']\n",
    "\n",
    "# Show a few examples of the calculation\n",
    "sample = df[['unit_price', 'qty', 'subtotal']].head()\n",
    "print(\"Sample of subtotal calculations:\")\n",
    "print(sample)"
   ]
  },
  {
   "cell_type": "code",
   "execution_count": 39,
   "id": "ac9dafc8",
   "metadata": {},
   "outputs": [
    {
     "name": "stdout",
     "output_type": "stream",
     "text": [
      "Sample of shipping price calculations:\n",
      "   unit_weight  qty  total_weight  shipping_price\n",
      "0         7.50  105        787.50         5512.50\n",
      "1         1.49   21         31.29          312.90\n",
      "2         1.68   39         65.52          458.64\n",
      "3         1.23   29         35.67          356.70\n",
      "4        46.43   20        928.60         6500.20\n"
     ]
    }
   ],
   "source": [
    "# Create a column for shipping price\n",
    "# Calculate total weight first (unit_weight * qty)\n",
    "df['total_weight'] = df['unit_weight'] * df['qty']\n",
    "\n",
    "# Calculate shipping price:\n",
    "# $7 per pound for orders over 50 pounds\n",
    "# $10 per pound for items 50 pounds or under\n",
    "df['shipping_price'] = df.apply(lambda row: \n",
    "    row['total_weight'] * 7 if row['total_weight'] > 50 \n",
    "    else row['total_weight'] * 10, axis=1)\n",
    "\n",
    "# Show a few examples of the calculation\n",
    "sample = df[['unit_weight', 'qty', 'total_weight', 'shipping_price']].head()\n",
    "print(\"Sample of shipping price calculations:\")\n",
    "print(sample)\n",
    "\n"
   ]
  },
  {
   "cell_type": "code",
   "execution_count": 40,
   "id": "77f42c67",
   "metadata": {},
   "outputs": [
    {
     "name": "stdout",
     "output_type": "stream",
     "text": [
      "Sample of total price calculations:\n",
      "    subtotal  shipping_price    total_price\n",
      "0  115164.00         5512.50  131839.076250\n",
      "1     523.95          312.90     914.258625\n",
      "2     527.28          458.64    1077.117600\n",
      "3    1056.18          356.70    1543.571400\n",
      "4    3902.00         6500.20   11364.403500\n"
     ]
    }
   ],
   "source": [
    "# Create a column for the total price using the subtotal and shipping price along with a sales tax of 9.25%\n",
    "df['total_price'] = (df['subtotal'] + df['shipping_price']) * (1 + 0.0925)\n",
    "\n",
    "# Show a few examples of the calculation\n",
    "sample = df[['subtotal', 'shipping_price', 'total_price']].head()\n",
    "print(\"Sample of total price calculations:\")\n",
    "print(sample)\n"
   ]
  },
  {
   "cell_type": "code",
   "execution_count": 41,
   "id": "c82ad275",
   "metadata": {},
   "outputs": [
    {
     "name": "stdout",
     "output_type": "stream",
     "text": [
      "Sample of line cost calculations:\n",
      "   unit_cost  qty  shipping_price  line_cost\n",
      "0     762.71  105         5512.50   85597.05\n",
      "1      15.09   21          312.90     629.79\n",
      "2       7.86   39          458.64     765.18\n",
      "3      24.85   29          356.70    1077.35\n",
      "4     108.17   20         6500.20    8663.60\n"
     ]
    }
   ],
   "source": [
    "# Create a column for the cost of each line using unit cost, qty, and shipping price\n",
    "df['line_cost'] = (df['unit_cost'] * df['qty']) + df['shipping_price']\n",
    "\n",
    "# Show a few examples of the calculation\n",
    "sample = df[['unit_cost', 'qty', 'shipping_price', 'line_cost']].head()\n",
    "print(\"Sample of line cost calculations:\")\n",
    "print(sample)\n",
    "\n"
   ]
  },
  {
   "cell_type": "code",
   "execution_count": 42,
   "id": "e2389018",
   "metadata": {},
   "outputs": [
    {
     "name": "stdout",
     "output_type": "stream",
     "text": [
      "Sample of profit calculations:\n",
      "     total_price  line_cost        profit\n",
      "0  131839.076250   85597.05  46242.026250\n",
      "1     914.258625     629.79    284.468625\n",
      "2    1077.117600     765.18    311.937600\n",
      "3    1543.571400    1077.35    466.221400\n",
      "4   11364.403500    8663.60   2700.803500\n"
     ]
    }
   ],
   "source": [
    "# Create a column for the profit of each line using line cost and line price\n",
    "df['profit'] = df['total_price'] - df['line_cost']\n",
    "\n",
    "# Show a few examples of the calculation\n",
    "sample = df[['total_price', 'line_cost', 'profit']].head()\n",
    "print(\"Sample of profit calculations:\")\n",
    "print(sample)\n",
    "\n"
   ]
  },
  {
   "cell_type": "markdown",
   "id": "ef6f62b1",
   "metadata": {},
   "source": [
    "## Part 3: Confirm your work\n",
    "You have email receipts showing that the total prices for 3 orders. Confirm that your calculations match the receipts. Remember, each order has multiple lines.\n",
    "\n",
    "Order ID 2742071 had a total price of \\$152,811.89\n",
    "\n",
    "Order ID 2173913 had a total price of \\$162,388.71\n",
    "\n",
    "Order ID 6128929 had a total price of \\$923,441.25\n"
   ]
  },
  {
   "cell_type": "code",
   "execution_count": 43,
   "id": "c0e5d68e",
   "metadata": {},
   "outputs": [
    {
     "name": "stdout",
     "output_type": "stream",
     "text": [
      "\n",
      "Order ID: 2742071\n",
      "Expected Total: $152,811.89\n",
      "Calculated Total: $152,811.90\n",
      "Difference: $0.01\n",
      "\n",
      "Order ID: 2173913\n",
      "Expected Total: $162,388.71\n",
      "Calculated Total: $162,388.72\n",
      "Difference: $0.01\n",
      "\n",
      "Order ID: 6128929\n",
      "Expected Total: $923,441.25\n",
      "Calculated Total: $923,441.24\n",
      "Difference: $0.01\n"
     ]
    }
   ],
   "source": [
    "# Check your work using the totals above\n",
    "# Check the total prices for specific order IDs\n",
    "orders_to_check = [2742071, 2173913, 6128929]\n",
    "expected_totals = [152811.89, 162388.71, 923441.25]\n",
    "\n",
    "for order_id, expected_total in zip(orders_to_check, expected_totals):\n",
    "    calculated_total = df[df['order_id'] == order_id]['total_price'].sum()\n",
    "    print(f\"\\nOrder ID: {order_id}\")\n",
    "    print(f\"Expected Total: ${expected_total:,.2f}\")\n",
    "    print(f\"Calculated Total: ${calculated_total:,.2f}\")\n",
    "    print(f\"Difference: ${abs(calculated_total - expected_total):,.2f}\")"
   ]
  },
  {
   "cell_type": "markdown",
   "id": "b94d58ab",
   "metadata": {},
   "source": [
    "## Part 4: Summarize and Analyze\n",
    "Use the new columns with confirmed values to find the following information."
   ]
  },
  {
   "cell_type": "code",
   "execution_count": null,
   "id": "7c005f34",
   "metadata": {},
   "outputs": [
    {
     "name": "stdout",
     "output_type": "stream",
     "text": [
      "\n",
      "Client 33615\n",
      "Total Spent: $8,377,308.57\n",
      "\n",
      "Client 66037\n",
      "Total Spent: $10,259,514.80\n",
      "\n",
      "Client 46820\n",
      "Total Spent: $9,743,794.32\n",
      "\n",
      "Client 38378\n",
      "Total Spent: $12,906,550.88\n",
      "\n",
      "Client 24741\n",
      "Total Spent: $82,268,891.98\n"
     ]
    }
   ],
   "source": [
    "# How much did each of the top 5 clients by quantity spend? Check your work from Part 1 for client ids.\n",
    "# Calculate total spending for each of the top 5 clients\n",
    "for client_id in top_5_clients:\n",
    "    client_total = df[df['client_id'] == client_id]['total_price'].sum()\n",
    "    print(f\"\\nClient {client_id}\")\n",
    "    print(f\"Total Spent: ${client_total:,.2f}\")\n"
   ]
  },
  {
   "cell_type": "markdown",
   "id": "61ae5887",
   "metadata": {},
   "source": [
    "### Observation:\n",
    "Client 24741's total spending is significantly higher than others due to a single large order of 3,000,000 units. This order has a low unit price, which may be valid for bulk transactions. Despite this, the total spending is an outlier and influences the analysis.\n"
   ]
  },
  {
   "cell_type": "code",
   "execution_count": 56,
   "id": "81b6e4d2",
   "metadata": {},
   "outputs": [
    {
     "name": "stdout",
     "output_type": "stream",
     "text": [
      "\n",
      "Summary for Top 5 Clients:\n",
      "   Client ID  Total Units  Total Shipping  Total Revenue   Total Profit\n",
      "0      33615        64313   $1,828,984.89  $8,377,308.57  $2,201,994.66\n",
      "1      66037        43018   $1,395,151.85 $10,259,514.80  $3,255,031.82\n",
      "2      46820        75768   $1,601,448.84  $9,743,794.32  $2,736,602.68\n",
      "3      38378        73667   $3,429,455.40 $12,906,550.88  $3,271,829.90\n",
      "4      24741       239862   $5,126,448.37 $82,268,891.98 $36,579,992.27\n",
      "\n",
      "Sorted Summary for Top 5 Clients (By Profit):\n",
      "   Client ID  Total Units  Total Shipping  Total Revenue   Total Profit\n",
      "4      24741       239862   $5,126,448.37 $82,268,891.98 $36,579,992.27\n",
      "3      38378        73667   $3,429,455.40 $12,906,550.88  $3,271,829.90\n",
      "1      66037        43018   $1,395,151.85 $10,259,514.80  $3,255,031.82\n",
      "2      46820        75768   $1,601,448.84  $9,743,794.32  $2,736,602.68\n",
      "0      33615        64313   $1,828,984.89  $8,377,308.57  $2,201,994.66\n"
     ]
    },
    {
     "data": {
      "image/png": "[encoded data removed]",
      "text/plain": [
       "<Figure size 1000x600 with 1 Axes>"
      ]
     },
     "metadata": {},
     "output_type": "display_data"
    }
   ],
   "source": [
    "# Create a summary DataFrame showing the totals for the for the top 5 clients with the following information:\n",
    "# total units purchased, total shipping price, total revenue, and total profit. \n",
    "# Create summary DataFrame for top 5 clients\n",
    "import matplotlib.pyplot as plt\n",
    "\n",
    "summary_data = []\n",
    "\n",
    "for client_id in top_5_clients:\n",
    "    client_data = df[df['client_id'] == client_id]\n",
    "    client_summary = {\n",
    "        'Client ID': client_id,\n",
    "        'Total Units': client_data['qty'].sum(),\n",
    "        'Total Shipping': client_data['shipping_price'].sum(),\n",
    "        'Total Revenue': client_data['total_price'].sum(),\n",
    "        'Total Profit': client_data['profit'].sum()\n",
    "    }\n",
    "    summary_data.append(client_summary)\n",
    "\n",
    "summary_df = pd.DataFrame(summary_data)\n",
    "\n",
    "# Format the DataFrame for better readability\n",
    "pd.options.display.float_format = '${:,.2f}'.format\n",
    "print(\"\\nSummary for Top 5 Clients:\")\n",
    "print(summary_df)   # Sort the summary by Total Profit\n",
    "summary_df.sort_values(by='Total Profit', ascending=False, inplace=True)\n",
    "print(\"\\nSorted Summary for Top 5 Clients (By Profit):\")\n",
    "print(summary_df)\n",
    "# Create a bar chart for Total Revenue vs. Total Profit\n",
    "summary_df.plot(x='Client ID', y=['Total Revenue', 'Total Profit'], kind='bar', figsize=(10, 6), title=\"Top 5 Clients: Revenue vs. Profit\")\n",
    "plt.ylabel(\"Amount ($)\")\n",
    "plt.show()\n",
    "\n"
   ]
  },
  {
   "cell_type": "code",
   "execution_count": 57,
   "id": "7be02867",
   "metadata": {},
   "outputs": [
    {
     "name": "stdout",
     "output_type": "stream",
     "text": [
      "\n",
      "Formatted Summary (Values in Millions):\n",
      "   Client  Units Purchased Total Shipping (millions) Total Revenue (millions)  \\\n",
      "4   24741           239862                    $5.13M                  $82.27M   \n",
      "3   38378            73667                    $3.43M                  $12.91M   \n",
      "1   66037            43018                    $1.40M                  $10.26M   \n",
      "2   46820            75768                    $1.60M                   $9.74M   \n",
      "0   33615            64313                    $1.83M                   $8.38M   \n",
      "\n",
      "  Total Profit (millions)  \n",
      "4                 $36.58M  \n",
      "3                  $3.27M  \n",
      "1                  $3.26M  \n",
      "2                  $2.74M  \n",
      "0                  $2.20M  \n"
     ]
    }
   ],
   "source": [
    "# Format the data and rename the columns to names suitable for presentation.\n",
    "\n",
    "# Define the money columns. \n",
    "\n",
    "\n",
    "# Define a function that converts a dollar amount to millions.\n",
    "\n",
    "\n",
    "# Apply the currency_format_millions function to only the money columns. \n",
    "\n",
    "\n",
    "# Rename the columns to reflect the change in the money format. \n",
    "\n",
    "# Define function to convert dollar amounts to millions\n",
    "def currency_to_millions(value):\n",
    "    return f\"${value/1000000:.2f}M\"\n",
    "\n",
    "# Create a copy of the summary DataFrame for formatting\n",
    "formatted_df = summary_df.copy()\n",
    "\n",
    "# Define money columns\n",
    "money_columns = ['Total Shipping', 'Total Revenue', 'Total Profit']\n",
    "\n",
    "# Convert money columns to millions and rename them\n",
    "for column in money_columns:\n",
    "    formatted_df[f'{column} (millions)'] = formatted_df[column].apply(currency_to_millions)\n",
    "    formatted_df = formatted_df.drop(column, axis=1)\n",
    "\n",
    "# Rename remaining columns for presentation\n",
    "formatted_df = formatted_df.rename(columns={\n",
    "    'Client ID': 'Client',\n",
    "    'Total Units': 'Units Purchased'\n",
    "})\n",
    "\n",
    "print(\"\\nFormatted Summary (Values in Millions):\")\n",
    "print(formatted_df)\n"
   ]
  },
  {
   "cell_type": "code",
   "execution_count": 58,
   "id": "8ead0986",
   "metadata": {},
   "outputs": [
    {
     "name": "stdout",
     "output_type": "stream",
     "text": [
      "\n",
      "Final Summary (Sorted by Total Profit):\n",
      "   Client  Units Purchased Total Shipping (millions) Total Revenue (millions)  \\\n",
      "4   24741           239862                    $5.13M                  $82.27M   \n",
      "3   38378            73667                    $3.43M                  $12.91M   \n",
      "1   66037            43018                    $1.40M                  $10.26M   \n",
      "2   46820            75768                    $1.60M                   $9.74M   \n",
      "0   33615            64313                    $1.83M                   $8.38M   \n",
      "\n",
      "  Total Profit (millions)  \n",
      "4                 $36.58M  \n",
      "3                  $3.27M  \n",
      "1                  $3.26M  \n",
      "2                  $2.74M  \n",
      "0                  $2.20M  \n"
     ]
    }
   ],
   "source": [
    "# Sort the updated data by \"Total Profit (millions)\" form highest to lowest and assign the sort to a new DatFrame.\n",
    "# Sort the updated data by \"Total Profit (millions)\" from highest to lowest\n",
    "sorted_df = formatted_df.sort_values('Total Profit (millions)', \n",
    "                                   key=lambda x: x.str.replace('$', '').str.replace('M', '').astype(float),\n",
    "                                   ascending=False)\n",
    "\n",
    "# Display the sorted DataFrame\n",
    "print(\"\\nFinal Summary (Sorted by Total Profit):\")\n",
    "print(sorted_df)"
   ]
  },
  {
   "cell_type": "code",
   "execution_count": 59,
   "id": "87e0e7f8-b60e-4e50-ab07-c36b6deed513",
   "metadata": {},
   "outputs": [],
   "source": [
    "# %% [markdown]\n",
    "# ## Summary of Findings\n",
    "# Analysis of the top 5 clients reveals that client 24741 significantly outperformed others with $36.58M in profit, \n",
    "# more than 10 times higher than the next most profitable client. This client also ordered the highest number of \n",
    "# units (239,862) while maintaining efficient shipping costs relative to revenue. The data suggests a strong \n",
    "# correlation between order volume and profitability, though shipping costs vary considerably among top clients."
   ]
  },
  {
   "cell_type": "markdown",
   "id": "f21585ef",
   "metadata": {},
   "source": [
    "### Final Summary:\n",
    "- Client 24741 is the top contributor to profits, with a significant outlier order.\n",
    "- Other clients, such as 38378 and 66037, have similar profit contributions.\n",
    "- This analysis highlights the importance of large-volume clients in overall profitability.\n"
   ]
  },
  {
   "cell_type": "code",
   "execution_count": 60,
   "id": "9e697a0f",
   "metadata": {},
   "outputs": [
    {
     "data": {
      "image/png": "[encoded data removed]",
      "text/plain": [
       "<Figure size 1000x600 with 1 Axes>"
      ]
     },
     "metadata": {},
     "output_type": "display_data"
    }
   ],
   "source": [
    "# Bar chart for sorted data\n",
    "sorted_df.set_index('Client').plot(kind='bar', figsize=(10, 6), title=\"Top Clients by Total Profit (in Millions)\")\n",
    "plt.ylabel(\"Amount (in Millions $)\")\n",
    "plt.show()\n"
   ]
  }
 ],
 "metadata": {
  "kernelspec": {
   "display_name": "dev",
   "language": "python",
   "name": "python3"
  },
  "language_info": {
   "codemirror_mode": {
    "name": "ipython",
    "version": 3
   },
   "file_extension": ".py",
   "mimetype": "text/x-python",
   "name": "python",
   "nbconvert_exporter": "python",
   "pygments_lexer": "ipython3",
   "version": "3.10.15"
  }
 },
 "nbformat": 4,
 "nbformat_minor": 5
}
